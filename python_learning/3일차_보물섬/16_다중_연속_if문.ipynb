{
 "cells": [
  {
   "cell_type": "markdown",
   "metadata": {},
   "source": [
    "## Project 3. 보물섬\n",
    "\n",
    "1. 다중 연속 if문\n"
   ]
  },
  {
   "cell_type": "code",
   "execution_count": 31,
   "metadata": {},
   "outputs": [
    {
     "name": "stdout",
     "output_type": "stream",
     "text": [
      "롤러코스터에 어서오세요!\n",
      "롤러코스터에 탑승이 가능하세요!\n",
      "일반 성인은 $12 입니다.\n",
      "최종 요금은 $12 입니다.\n"
     ]
    }
   ],
   "source": [
    "# 발권 프로그램\n",
    "\n",
    "print(\"롤러코스터에 어서오세요!\")\n",
    "height = int(input(\"당신의 키는 몇 cm 입니까? \"))\n",
    "bill = 0\n",
    "\n",
    "if height >= 120:\n",
    "    print(\"롤러코스터에 탑승이 가능하세요!\")\n",
    "    age = int(input(\"당신의 나이가 어떻게 되나요? \"))\n",
    "    if age < 12:\n",
    "        bill = 5\n",
    "        print(\"어린이 티켓은 $5 입니다.\")\n",
    "    elif age <= 18:\n",
    "        bill = 7\n",
    "        print(\"청소년 티켓은 $7 입니다.\")\n",
    "    else:\n",
    "        bill = 12\n",
    "        print(\"일반 성인은 $12 입니다.\")\n",
    "    \n",
    "    wants_photo = input(\"사진을 구매하시길 원하시나요? 예 또는 아니오\")\n",
    "    if wants_photo == \"예\":\n",
    "        bill += 3\n",
    "    # if문 바깥쪽에 작성\n",
    "    print(f\"최종 요금은 ${bill} 입니다.\")\n",
    "else:\n",
    "  print(\"죄송합니다. 더 자라고 이용해주세요.\")"
   ]
  },
  {
   "cell_type": "code",
   "execution_count": 46,
   "metadata": {},
   "outputs": [
    {
     "name": "stdout",
     "output_type": "stream",
     "text": [
      "파이썬 피자 주문 서비스를 이용해주셔서 감사합니다.\n",
      "라지 사이즈는 $25 입니다.\n",
      "지불하실 금액은 $28 입니다.\n"
     ]
    }
   ],
   "source": [
    "# 자동 피자 주문 프로그램\n",
    "\n",
    "print(\"파이썬 피자 주문 서비스를 이용해주셔서 감사합니다.\")\n",
    "\n",
    "size = input(\"피자의 사이즈(L, M, S)를 선택해주세요.\")\n",
    "add_pepperoni = input(\"페퍼로니를 추가하시겠습니까? 예 또는 아니오\")\n",
    "extra_cheese = input(\"치즈를 추가하시겠습니까? 예 또는 아니오\")\n",
    "pizza_price = 0\n",
    "pepperoni_price = 0\n",
    "cheese_price = 0\n",
    "\n",
    "if size in (\"L\", \"l\"):\n",
    "    pizza_price += 25\n",
    "    print(f\"라지 사이즈는 ${pizza_price} 입니다.\")\n",
    "    if add_pepperoni == \"예\":\n",
    "        pepperoni_price += 3\n",
    "    if extra_cheese == \"예\":\n",
    "        cheese_price += 1\n",
    "    bill = pizza_price + pepperoni_price + cheese_price\n",
    "elif size in (\"M\", \"m\"):\n",
    "    pizza_price += 20\n",
    "    print(f\"미디움 사이즈는 ${pizza_price} 입니다.\")\n",
    "    if add_pepperoni == \"예\":\n",
    "        pepperoni_price += 3\n",
    "    if extra_cheese == \"예\":\n",
    "        cheese_price += 1\n",
    "    bill = pizza_price + pepperoni_price + cheese_price\n",
    "elif size in (\"S\", \"s\"):\n",
    "    pizza_price += 15\n",
    "    print(f\"스몰 사이즈는 ${pizza_price} 입니다.\")\n",
    "    if add_pepperoni == \"예\":\n",
    "        pepperoni_price += 2\n",
    "    if extra_cheese == \"예\":\n",
    "        cheese_price += 1\n",
    "    bill = pizza_price + pepperoni_price + cheese_price\n",
    "else: \n",
    "    print(\"판매하지 않는 사이즈 입니다.\")\n",
    "\n",
    "print(f\"지불하실 금액은 ${bill} 입니다.\") "
   ]
  },
  {
   "cell_type": "code",
   "execution_count": 47,
   "metadata": {},
   "outputs": [
    {
     "name": "stdout",
     "output_type": "stream",
     "text": [
      "파이썬 피자 주문 서비스를 이용해주셔서 감사합니다.\n",
      "지불하실 금액은 $25 입니다.\n"
     ]
    }
   ],
   "source": [
    "# 간소화 된 솔루션\n",
    "# 자동 피자 주문 프로그램\n",
    "\n",
    "print(\"파이썬 피자 주문 서비스를 이용해주셔서 감사합니다.\")\n",
    "\n",
    "size = input(\"피자의 사이즈(L, M, S)를 선택해주세요.\")\n",
    "add_pepperoni = input(\"페퍼로니를 추가하시겠습니까? 예 또는 아니오\")\n",
    "extra_cheese = input(\"치즈를 추가하시겠습니까? 예 또는 아니오\")\n",
    "\n",
    "bill = 0\n",
    "\n",
    "if size in (\"L\", \"l\"):\n",
    "    bill += 25\n",
    "elif size in (\"M\", \"m\"):\n",
    "    bill += 20\n",
    "elif size in (\"S\", \"s\"):\n",
    "    bill += 15\n",
    "else: \n",
    "    print(\"판매하지 않는 사이즈 입니다.\")\n",
    "    \n",
    "if add_pepperoni == \"예\":\n",
    "    if size in (\"S\", \"s\"):\n",
    "        bill += 2\n",
    "    else:\n",
    "        bill += 3\n",
    "        \n",
    "if extra_cheese == \"예\":\n",
    "    bill += 1\n",
    "    \n",
    "print(f\"지불하실 금액은 ${bill} 입니다.\") "
   ]
  }
 ],
 "metadata": {
  "kernelspec": {
   "display_name": "Python 3",
   "language": "python",
   "name": "python3"
  },
  "language_info": {
   "codemirror_mode": {
    "name": "ipython",
    "version": 3
   },
   "file_extension": ".py",
   "mimetype": "text/x-python",
   "name": "python",
   "nbconvert_exporter": "python",
   "pygments_lexer": "ipython3",
   "version": "3.11.4"
  }
 },
 "nbformat": 4,
 "nbformat_minor": 2
}
