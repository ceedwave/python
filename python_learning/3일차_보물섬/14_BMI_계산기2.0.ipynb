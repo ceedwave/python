{
 "cells": [
  {
   "cell_type": "markdown",
   "metadata": {},
   "source": [
    "## Project 3. 보물섬\n",
    "\n",
    "1. BMI 계산기 2.0"
   ]
  },
  {
   "cell_type": "code",
   "execution_count": 3,
   "metadata": {},
   "outputs": [
    {
     "name": "stdout",
     "output_type": "stream",
     "text": [
      "당신의 BMI지수는 0.0로 저체중입니다.\n"
     ]
    }
   ],
   "source": [
    "height = float(input())\n",
    "weight = int(input())\n",
    "\n",
    "def bmi_table():\n",
    "    bmi = round(weight / (height ** 2),2)\n",
    "    if bmi <= 18.5:\n",
    "        print(f\"당신의 BMI지수는 {bmi}로 저체중입니다.\")\n",
    "    elif bmi <= 22.9:\n",
    "        print(f\"당신의 BMI지수는 {bmi}로 정상체중입니다.\")\n",
    "    elif bmi <= 24.9:\n",
    "        print(f\"당신의 BMI지수는 {bmi}로 과체중입니다.\")    \n",
    "    elif bmi <= 29.9:\n",
    "        print(f\"당신의 BMI지수는 {bmi}로 비만입니다.\")    \n",
    "    else:\n",
    "        print(f\"당신의 BMI지수는 {bmi}로 고도비만입니다.\")\n",
    "\n",
    "bmi_table()\n"
   ]
  }
 ],
 "metadata": {
  "kernelspec": {
   "display_name": "Python 3",
   "language": "python",
   "name": "python3"
  },
  "language_info": {
   "codemirror_mode": {
    "name": "ipython",
    "version": 3
   },
   "file_extension": ".py",
   "mimetype": "text/x-python",
   "name": "python",
   "nbconvert_exporter": "python",
   "pygments_lexer": "ipython3",
   "version": "3.11.4"
  }
 },
 "nbformat": 4,
 "nbformat_minor": 2
}
