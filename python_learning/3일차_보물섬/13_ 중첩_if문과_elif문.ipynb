{
 "cells": [
  {
   "cell_type": "markdown",
   "metadata": {},
   "source": [
    "## Project 3. 보물섬\n",
    "\n",
    "1. 중첩 if문과 elif문\n",
    "* 중첩(nested) if / else"
   ]
  },
  {
   "cell_type": "code",
   "execution_count": null,
   "metadata": {},
   "outputs": [],
   "source": [
    "# 중첩 if문 구조\n",
    "\n",
    "if 조건 : \n",
    "    if 다른 조건 :\n",
    "        실행\n",
    "    else :\n",
    "        실행\n",
    "else : \n",
    "    실행"
   ]
  },
  {
   "cell_type": "code",
   "execution_count": 1,
   "metadata": {},
   "outputs": [
    {
     "name": "stdout",
     "output_type": "stream",
     "text": [
      "탑승자의 키는 170cm로 입장이 가능합니다.\n",
      "탑승자의 연령은 29세로 이용료는 $12 입니다. 감사합니다.\n"
     ]
    }
   ],
   "source": [
    "# 중첩 if문을 통한 조건문 출력\n",
    "\n",
    "height = int(input(\"롤러코스터에 오신 것을 환영합니다! 이용에 앞서 신장을 입력해주세요 :)\"))\n",
    "if height >= 120 :\n",
    "    print(f\"탑승자의 키는 {height}cm로 입장이 가능합니다.\")\n",
    "    age = int(input(\"탑승자의 연령을 알려주세요\"))\n",
    "    over = 12\n",
    "    under = 7\n",
    "    lower = 5\n",
    "    # 조건 1\n",
    "    if age <= 12 :\n",
    "        print(f\"탑승자의 연령은 {age}세로 이용료는 ${lower} 입니다. 감사합니다.\")\n",
    "    # 조건 1이 참이 아닐경우 elif가 참인지 확인\n",
    "    elif age <= 18 : \n",
    "        print(f\"탑승자의 연령은 {age}세로 이용료는 ${under} 입니다. 감사합니다.\")\n",
    "    # 조건 2가 참이 아닐경우 else가 실행\n",
    "    else : \n",
    "        print(f\"탑승자의 연령은 {age}세로 이용료는 ${over} 입니다. 감사합니다.\")\n",
    "else :\n",
    "    print(f\"죄송하지만 탑승요청자의 키는 {height}cm로 입장이 불가능합니다.\")"
   ]
  }
 ],
 "metadata": {
  "kernelspec": {
   "display_name": "Python 3",
   "language": "python",
   "name": "python3"
  },
  "language_info": {
   "codemirror_mode": {
    "name": "ipython",
    "version": 3
   },
   "file_extension": ".py",
   "mimetype": "text/x-python",
   "name": "python",
   "nbconvert_exporter": "python",
   "pygments_lexer": "ipython3",
   "version": "3.11.4"
  }
 },
 "nbformat": 4,
 "nbformat_minor": 2
}
