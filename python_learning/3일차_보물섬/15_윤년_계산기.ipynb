{
 "cells": [
  {
   "cell_type": "markdown",
   "metadata": {},
   "source": [
    "## Project 3. 보물섬\n",
    "\n",
    "1. 윤년 계산기"
   ]
  },
  {
   "cell_type": "code",
   "execution_count": 47,
   "metadata": {},
   "outputs": [
    {
     "name": "stdout",
     "output_type": "stream",
     "text": [
      "윤년이 아닙니다.\n"
     ]
    }
   ],
   "source": [
    "'''\n",
    "특정 연도가 윤년인지 확인하는 프로그램을 작성하세요. \n",
    "평년은 365일, 윤년은 366일, 2월에 하루가 더 추가됩니다. \n",
    "\n",
    "특정 연도가 윤년인지 여부를 확인하는 방법입니다.\n",
    "\n",
    "나머지 없이 4로 나누어지는 매년\n",
    "단, 나머지 없이 100으로 균등하게 나누어지는 매년은 제외됩니다.\n",
    "연도가 나머지 없이 400으로 나누어지는 경우는 제외\n",
    "\n",
    "'''\n",
    "\n",
    "# year = int(input())\n",
    "# if year % 4 == 0:\n",
    "#     answer = year % 4\n",
    "#     print(f\"{answer}으로 조건이 성립됩니다.\") \n",
    "#     if year // 100 != 0: \n",
    "#         answer = year // 100\n",
    "#         print(f\"{answer}으로 조건이 성립됩니다.\")\n",
    "#         answer = year // 400\n",
    "#         if year // 400 != 0:\n",
    "#             print(f\"{answer}으로 조건이 성립됩니다. {year}는 윤년입니다.\")\n",
    "#         else:\n",
    "#             print(\"윤년이 아닙니다.\")\n",
    "#     else:\n",
    "#         print(\"윤년이 아닙니다.\")\n",
    "# else:\n",
    "#     print(\"윤년이 아닙니다.\")\n",
    "        \n",
    "    \n",
    "year = int(input())\n",
    "if year % 4 == 0:\n",
    "    if year % 100 == 0:\n",
    "        if year % 400 == 0:\n",
    "            print(\"윤년 입니다.\")\n",
    "        else:\n",
    "            print(\"윤년이 아닙니다.\")\n",
    "    else: \n",
    "        print(\"윤년 입니다.\")\n",
    "else:\n",
    "    print(\"윤년이 아닙니다.\")\n",
    "        "
   ]
  }
 ],
 "metadata": {
  "kernelspec": {
   "display_name": "Python 3",
   "language": "python",
   "name": "python3"
  },
  "language_info": {
   "codemirror_mode": {
    "name": "ipython",
    "version": 3
   },
   "file_extension": ".py",
   "mimetype": "text/x-python",
   "name": "python",
   "nbconvert_exporter": "python",
   "pygments_lexer": "ipython3",
   "version": "3.11.4"
  }
 },
 "nbformat": 4,
 "nbformat_minor": 2
}
