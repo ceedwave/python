{
 "cells": [
  {
   "cell_type": "markdown",
   "metadata": {},
   "source": [
    "## Project 3. 보물섬\n",
    "\n",
    "1. 논리 연산자 적용\n",
    "* 하나의 조건문에 여러개의 조건을 적용할 때\n",
    "* and, or, not 연산자를 이용해서 적용"
   ]
  },
  {
   "cell_type": "code",
   "execution_count": 9,
   "metadata": {},
   "outputs": [
    {
     "name": "stdout",
     "output_type": "stream",
     "text": [
      "탑승자의 키는 170cm로 입장이 가능합니다.\n",
      "탑승자의 연령은 53세로 이용료는 $0 입니다. 감사합니다.\n",
      "최종 요금은 $3 입니다.\n"
     ]
    }
   ],
   "source": [
    "# 중첩 if문을 통한 조건문 출력\n",
    "\n",
    "height = int(input(\"롤러코스터에 오신 것을 환영합니다! 이용에 앞서 신장을 입력해주세요 :)\"))\n",
    "bill = 0 \n",
    "\n",
    "if height >= 120 :\n",
    "    print(f\"탑승자의 키는 {height}cm로 입장이 가능합니다.\")\n",
    "    age = int(input(\"탑승자의 연령을 알려주세요\"))\n",
    "    \n",
    "    # 논리 연산자 적용\n",
    "    if age >= 45 and age <= 55:\n",
    "        print(f\"탑승자의 연령은 {age}세로 이용료는 $0 입니다. 감사합니다.\")  \n",
    "        \n",
    "    elif age <= 12 :\n",
    "        print(f\"탑승자의 연령은 {age}세로 이용료는 $5 입니다. 감사합니다.\")\n",
    "    elif age <= 18 : \n",
    "        print(f\"탑승자의 연령은 {age}세로 이용료는 $7 입니다. 감사합니다.\")\n",
    "    else : \n",
    "        print(f\"탑승자의 연령은 {age}세로 이용료는 $12 입니다. 감사합니다.\")\n",
    "    \n",
    "else :\n",
    "    print(f\"죄송하지만 탑승요청자의 키는 {height}cm로 입장이 불가능합니다.\")\n",
    "\n",
    "\n",
    "wants_photo = input(\"사진을 구매하시길 원하시나요? 예 또는 아니오\")\n",
    "if wants_photo == \"예\":\n",
    "    bill += 3\n",
    "print(f\"최종 요금은 ${bill} 입니다.\")"
   ]
  },
  {
   "cell_type": "markdown",
   "metadata": {},
   "source": [
    "2. 사랑 점수 계산기\n",
    "* 두 사람의 이름을 모두 선택하여 TRUE라는 단어의 문자가 나타나는 횟수를 확인하세요.\n",
    "* 그런 다음 LOVE라는 단어의 문자가 나타나는 횟수를 확인하세요.\n",
    "* 그런 다음 이 숫자들을 조합하여 2자리 숫자를 만드세요.\n",
    "\n",
    "\"Your score is *x*, you go together like coke and mentos.\"\n",
    "러브 스코어가 40에서 50 사이인 경우 메시지는 다음과 같아야 합니다.\n",
    "\n",
    "\"Your score is *y*, you are alright together.\"\n",
    "그렇지 않으면 메시지는 단지 점수일 뿐입니다. 예:\n",
    "\n",
    "\"Your score is *z*.\""
   ]
  },
  {
   "cell_type": "code",
   "execution_count": 84,
   "metadata": {},
   "outputs": [
    {
     "name": "stdout",
     "output_type": "stream",
     "text": [
      "사랑 계산기가 당신의 점수를 계산하고 있습니다...\n",
      "당신의 점수는 73점 입니다.\n"
     ]
    }
   ],
   "source": [
    "print(\"사랑 계산기가 당신의 점수를 계산하고 있습니다...\")\n",
    "\n",
    "name1 = input()\n",
    "name2 = input()\n",
    "combined_name = name1 + name2\n",
    "name = combined_name.lower()\n",
    "\n",
    "T = name.count(\"t\")\n",
    "R = name.count(\"r\")\n",
    "U = name.count(\"u\")\n",
    "E = name.count(\"e\")\n",
    "L = name.count(\"l\")\n",
    "O = name.count(\"o\")\n",
    "V = name.count(\"v\")\n",
    "E2 = name.count(\"e\")\n",
    "\n",
    "true = T + R + U + E\n",
    "love = L + O + V + E2\n",
    "\n",
    "score = int(str(true) + str(love))\n",
    "\n",
    "if score < 10 or score > 90:\n",
    "    print(f\"당신의 점수는 {score}점 입니다. 마치 콜라와 맨토스 같은 관계이군요?\")\n",
    "elif score >= 40 and score <= 50:\n",
    "    print(f\"당신의 점수는 {score}점 입니다. 함꼐하기 좋은 상대입니다.\")\n",
    "else:\n",
    "    print(f\"당신의 점수는 {score}점 입니다.\")"
   ]
  }
 ],
 "metadata": {
  "kernelspec": {
   "display_name": "Python 3",
   "language": "python",
   "name": "python3"
  },
  "language_info": {
   "codemirror_mode": {
    "name": "ipython",
    "version": 3
   },
   "file_extension": ".py",
   "mimetype": "text/x-python",
   "name": "python",
   "nbconvert_exporter": "python",
   "pygments_lexer": "ipython3",
   "version": "3.11.4"
  }
 },
 "nbformat": 4,
 "nbformat_minor": 2
}
