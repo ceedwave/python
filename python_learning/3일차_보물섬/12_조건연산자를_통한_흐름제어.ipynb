{
 "cells": [
  {
   "cell_type": "markdown",
   "metadata": {},
   "source": [
    "## Project 3. 보물섬\n",
    "\n",
    "1. if / else 및 조건 연산자를 통한 흐름제어\n",
    "* if / else : 특정 조건에 따라 A or B를 실행하는 것"
   ]
  },
  {
   "cell_type": "code",
   "execution_count": null,
   "metadata": {},
   "outputs": [],
   "source": [
    "# if문 구조\n",
    "\n",
    "if 조건 : \n",
    "    실행\n",
    "else : \n",
    "    실행"
   ]
  },
  {
   "cell_type": "code",
   "execution_count": 7,
   "metadata": {},
   "outputs": [
    {
     "name": "stdout",
     "output_type": "stream",
     "text": [
      "사용자의 키는 120cm로 입장이 가능합니다.\n"
     ]
    }
   ],
   "source": [
    "# if / else 문을 통한 조건문 출력\n",
    "\n",
    "height = int(input(\"롤러코스터에 오신 것을 환영합니다! 이용에 앞서 신장을 입력해주세요 :)\"))\n",
    "if height >= 120 :\n",
    "    print(f\"사용자의 키는 {height}cm로 입장이 가능합니다.\")\n",
    "else :\n",
    "    print(f\"죄송하지만 사용자의 키는 {height}cm로 입장이 불가능합니다.\")"
   ]
  },
  {
   "cell_type": "markdown",
   "metadata": {},
   "source": [
    "2. 비교 연산자\n",
    "* 위에서 사용된 기호는 비교 연산자라고 한다\n",
    "* 종류\n",
    "    * '>' 크다\n",
    "    * '<' 작다\n",
    "    * '>=' 크거나 같다\n",
    "    * '<=' 작거나 같다\n",
    "    * '==' 같다\n",
    "    * '!=' 같지 않다"
   ]
  },
  {
   "cell_type": "code",
   "execution_count": 20,
   "metadata": {},
   "outputs": [
    {
     "name": "stdout",
     "output_type": "stream",
     "text": [
      "입력한 숫자는 짝수입니다.\n"
     ]
    }
   ],
   "source": [
    "# 조건문을 통해 입력받은 숫자가 홀수인지 짝수인지 구분하기\n",
    "# 모듈로란? 나눈 결과에 나머지가 없는지 확인하는 방법\n",
    "# tip: 짝수는 나머지가 0으로 정수이며 소수자리가 없음\n",
    "\n",
    "numbers = int(input())\n",
    "\n",
    "if numbers % 2 == 0 :\n",
    "    print(\"입력한 숫자는 짝수입니다.\")\n",
    "else :\n",
    "    print(\"입력한 숫자는 홀수입니다.\")\n"
   ]
  }
 ],
 "metadata": {
  "kernelspec": {
   "display_name": "Python 3",
   "language": "python",
   "name": "python3"
  },
  "language_info": {
   "codemirror_mode": {
    "name": "ipython",
    "version": 3
   },
   "file_extension": ".py",
   "mimetype": "text/x-python",
   "name": "python",
   "nbconvert_exporter": "python",
   "pygments_lexer": "ipython3",
   "version": "3.11.4"
  }
 },
 "nbformat": 4,
 "nbformat_minor": 2
}
