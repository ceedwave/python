{
 "cells": [
  {
   "cell_type": "markdown",
   "metadata": {},
   "source": [
    "## Project 4. 가위 바위 보\n",
    "\n",
    "1. random 모듈\n",
    "* 정수, 실수의 난수를 생성할 수 있다"
   ]
  },
  {
   "cell_type": "code",
   "execution_count": 41,
   "metadata": {},
   "outputs": [
    {
     "name": "stdout",
     "output_type": "stream",
     "text": [
      "1.707802498690929\n",
      "니 스코어는 52점이야\n"
     ]
    }
   ],
   "source": [
    "import random\n",
    "\n",
    "\n",
    "# (a, b) a와 b의 사이에서 정수의 난수 생성, a와 b도 포함된다.\n",
    "random.randint(100, 200)\n",
    "\n",
    "# 0 과 1사이의 숫자를 부동소수점 난수로 생성한다.\n",
    "random.random() \n",
    "\n",
    "# 실수에 곱셈을 적용할 경우 0 ~ 5 사이의 숫자를 부동소수점 난수로 생성한다.\n",
    "random_float = random.random()\n",
    "print(random_float * 5)\n",
    "\n",
    "# 변수로 활용\n",
    "\n",
    "score = random.randint(1, 100)\n",
    "print(f\"니 스코어는 {score}점이야\")"
   ]
  },
  {
   "cell_type": "code",
   "execution_count": 46,
   "metadata": {},
   "outputs": [
    {
     "name": "stdout",
     "output_type": "stream",
     "text": [
      "앞면\n"
     ]
    }
   ],
   "source": [
    "# 0과 1의 난수를 활용해서 앞면 뒷면 출력\n",
    "\n",
    "num = random.randint(0,1)\n",
    "\n",
    "if num == 0:\n",
    "    print(\"앞면\")\n",
    "else: \n",
    "    print(\"뒷면\")\n",
    "    \n",
    "    "
   ]
  }
 ],
 "metadata": {
  "kernelspec": {
   "display_name": "Python 3",
   "language": "python",
   "name": "python3"
  },
  "language_info": {
   "codemirror_mode": {
    "name": "ipython",
    "version": 3
   },
   "file_extension": ".py",
   "mimetype": "text/x-python",
   "name": "python",
   "nbconvert_exporter": "python",
   "pygments_lexer": "ipython3",
   "version": "3.11.4"
  }
 },
 "nbformat": 4,
 "nbformat_minor": 2
}
