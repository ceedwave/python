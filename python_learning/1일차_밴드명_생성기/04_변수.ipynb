{
 "cells": [
  {
   "cell_type": "markdown",
   "metadata": {},
   "source": [
    "## Project 1. 밴드명 생성기\n",
    "\n",
    "1. 변수\n",
    "* 기호(=)를 통해 기호 오른쪽에 있는 값을 왼쪽에 있는 변수명에 값을 할당"
   ]
  },
  {
   "cell_type": "code",
   "execution_count": 9,
   "metadata": {},
   "outputs": [
    {
     "name": "stdout",
     "output_type": "stream",
     "text": [
      "# 변수를 사용하는 방법\n",
      "name = \"동현\" # name이라는 변수명에 \"동현\"이라는 값을 할당\n",
      "print(name) # print함수 내 name을 참조해서 값을 출력\n",
      "\n",
      "동현\n"
     ]
    }
   ],
   "source": [
    "# 변수 할당\n",
    "print(\"# 변수를 사용하는 방법\")\n",
    "print(\"name = \\\"동현\\\" # name이라는 변수명에 \\\"동현\\\"이라는 값을 할당\")\n",
    "print(\"print(name) # print함수 내 name을 참조해서 값을 출력\\n\") \n",
    "name = \"동현\"\n",
    "print(name)"
   ]
  },
  {
   "cell_type": "code",
   "execution_count": 10,
   "metadata": {},
   "outputs": [
    {
     "name": "stdout",
     "output_type": "stream",
     "text": [
      "a : 다운\n",
      "b : 아름\n"
     ]
    }
   ],
   "source": [
    "# 두 변수 사이에서 값을 전환하는 방법\n",
    "a = input()\n",
    "b = input()\n",
    "\n",
    "c = a # 세 번째 변수를 만들어서 변수 a를 c에 할당(임시저장)\n",
    "a = b # 변수 b를 a에 넣어줌\n",
    "b = c # 마지막으로 임시저장한 변수 c를 b에 할당\n",
    "\n",
    "print(\"a : \" + a)\n",
    "print(\"b : \" + b)"
   ]
  },
  {
   "cell_type": "markdown",
   "metadata": {},
   "source": [
    "2. 변수이름 정하기\n",
    "* 가장 중요한 것은 가독성이 좋아야 한다.\n",
    "* 변수이름은 하나의 단일 단위여야 한다.\n",
    "* 단어를 분리할 경우 밑줄을 사용한다.\n",
    "* 변수의 시작이 숫자가 될 수 없다.\n",
    "* 내장 함수 또는 이미 사용되고 있는 메서드는 변수명으로 부적합하다."
   ]
  }
 ],
 "metadata": {
  "kernelspec": {
   "display_name": "Python 3",
   "language": "python",
   "name": "python3"
  },
  "language_info": {
   "codemirror_mode": {
    "name": "ipython",
    "version": 3
   },
   "file_extension": ".py",
   "mimetype": "text/x-python",
   "name": "python",
   "nbconvert_exporter": "python",
   "pygments_lexer": "ipython3",
   "version": "3.11.4"
  }
 },
 "nbformat": 4,
 "nbformat_minor": 2
}
