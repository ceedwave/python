{
 "cells": [
  {
   "cell_type": "markdown",
   "metadata": {},
   "source": [
    "## Project 1. 밴드명 생성기"
   ]
  },
  {
   "cell_type": "code",
   "execution_count": 32,
   "metadata": {},
   "outputs": [
    {
     "name": "stdout",
     "output_type": "stream",
     "text": [
      "안녕하세요! 방문해주셔서 감사합니다. 몇 가지 질문을 통해 밴드 이름을 지어드려요 :)\n",
      "\n",
      "첫 번째 질문입니다. 당신이 자란 도시는 어디인가요?\n",
      "\n",
      "답변 고마워요. 가나에서 자라셨군요!\n",
      "\n",
      "두 번째 질문입니다. 함께사는 반려동물의 이름은 무엇인가요?\n",
      "\n",
      "다라라니 너무 사랑스러운 이름이에요!\n",
      "\n",
      "추천드리는 밴드 이름은 당신이 자란 도시와 반려동물의 이름을 따서 가나의 핵주먹 다라 어때요?!\n",
      "\n",
      "그렇다면 다시 한 번 질문을 드릴게요 ~ 첫 번째 질문입니다. 당신이 자란 도시는 어디인가요?\n",
      "\n",
      "답변 고마워요. 사아에서 자라셨군요!\n",
      "\n",
      "두 번째 질문입니다. 함께사는 반려동물의 이름은 무엇인가요?\n",
      "\n",
      "추천드리는 밴드 이름은 사아의 핵주먹 자차으로 입니다.\n",
      "\n",
      "이용해주셔서 감사합니다 :)\n"
     ]
    }
   ],
   "source": [
    "print(\"안녕하세요! 방문해주셔서 감사합니다. 몇 가지 질문을 통해 밴드 이름을 지어드려요 :)\\n\")\n",
    "print(\"첫 번째 질문입니다. 당신이 자란 도시는 어디인가요?\\n\")\n",
    "city = input(\"첫 번째 질문입니다. 당신이 자란 도시는 어디인가요?\\n\")\n",
    "print(f\"답변 고마워요. {city}에서 자라셨군요!\\n\")\n",
    "print(\"두 번째 질문입니다. 함께사는 반려동물의 이름은 무엇인가요?\\n\")\n",
    "pet_name = input(\"두 번째 질문입니다. 함께사는 반려동물의 이름은 무엇인가요?\\n\")\n",
    "print(f\"{pet_name}라니 너무 사랑스러운 이름이에요!\\n\")\n",
    "print(f\"추천드리는 밴드 이름은 당신이 자란 도시와 반려동물의 이름을 따서 {city}의 핵주먹 {pet_name} 어때요?!\\n\")\n",
    "yes_or_not = input(\"마음에 드신다면 \\\"오케이\\\"를 입력해주세요\")\n",
    "\n",
    "if yes_or_not == \"오케이\":\n",
    "    print(\"마음에 드신다니 정말 다행이에요! 이용해주셔서 감사합니다. 만괂부 ㅎㅎ\")\n",
    "else :\n",
    "    print(\"그렇다면 다시 한 번 질문을 드릴게요 ~ 첫 번째 질문입니다. 당신이 자란 도시는 어디인가요?\\n\")\n",
    "    city = input(\"그렇다면 다시 한 번 질문을 드릴게요 ~ 첫 번째 질문입니다. 당신이 자란 도시는 어디인가요?\\n\")\n",
    "    print(f\"답변 고마워요. {city}에서 자라셨군요!\\n\")\n",
    "    print(\"두 번째 질문입니다. 함께사는 반려동물의 이름은 무엇인가요?\\n\")\n",
    "    pet_name = input(\"두 번째 질문입니다. 함께사는 반려동물의 이름은 무엇인가요?\\n\")\n",
    "    print(f\"추천드리는 밴드 이름은 {city}의 핵주먹 {pet_name}으로 입니다.\\n\")\n",
    "    print(\"이용해주셔서 감사합니다 :)\")"
   ]
  },
  {
   "cell_type": "code",
   "execution_count": null,
   "metadata": {},
   "outputs": [],
   "source": [
    "    "
   ]
  }
 ],
 "metadata": {
  "kernelspec": {
   "display_name": "Python 3",
   "language": "python",
   "name": "python3"
  },
  "language_info": {
   "codemirror_mode": {
    "name": "ipython",
    "version": 3
   },
   "file_extension": ".py",
   "mimetype": "text/x-python",
   "name": "python",
   "nbconvert_exporter": "python",
   "pygments_lexer": "ipython3",
   "version": "3.11.4"
  }
 },
 "nbformat": 4,
 "nbformat_minor": 2
}
