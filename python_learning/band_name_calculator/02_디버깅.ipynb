{
 "cells": [
  {
   "cell_type": "markdown",
   "metadata": {},
   "source": [
    "## Project 1. 밴드명 생성기\n",
    "\n",
    "1. 파이썬에서 디버깅 방법 \n",
    "* 출력되는 결과물을 토대로 에러메세지를 확인하여 코드를 수정 \n",
    "* 이유를 알 수 없을 경우 Stack Overflow 활용\n",
    "\n",
    "2. 대표적인 오류구문 \n",
    "* SyntaxError : 문법 오류 \n",
    "* IndentationError : 들여쓰기 오류\n",
    "* TypeError : 데이터 타입 오류\n",
    "* IndexError : 인덱스 범위 오류\n",
    "* NameError : 정의되지 않은 변수, 함수의 참조 시 오류"
   ]
  },
  {
   "cell_type": "code",
   "execution_count": null,
   "metadata": {},
   "outputs": [],
   "source": [
    "# 오류 수정하기 \n",
    "print(Day 1 - String Manipulation\")\n",
    "print(\"String Concatenation is done with the \"+\" sign.\")\n",
    "  print('e.g. print(\"Hello \" + \"world\")')\n",
    "print((\"New lines can be created with a backslash and n.\")"
   ]
  },
  {
   "cell_type": "code",
   "execution_count": 2,
   "metadata": {},
   "outputs": [
    {
     "name": "stdout",
     "output_type": "stream",
     "text": [
      "Day 1 - String Manipulation\n",
      "String Concatenation is done with the \"+\" sign.\n",
      "e.g. print(\"Hello \" + \"world\")\n",
      "New lines can be created with a backslash and n.\n"
     ]
    }
   ],
   "source": [
    "print(\"Day 1 - String Manipulation\")\n",
    "print(\"String Concatenation is done with the \\\"+\\\" sign.\")\n",
    "print('e.g. print(\\\"Hello \\\" + \\\"world\\\")')\n",
    "print(\"New lines can be created with a backslash and n.\")"
   ]
  }
 ],
 "metadata": {
  "kernelspec": {
   "display_name": "Python 3",
   "language": "python",
   "name": "python3"
  },
  "language_info": {
   "codemirror_mode": {
    "name": "ipython",
    "version": 3
   },
   "file_extension": ".py",
   "mimetype": "text/x-python",
   "name": "python",
   "nbconvert_exporter": "python",
   "pygments_lexer": "ipython3",
   "version": "3.11.4"
  }
 },
 "nbformat": 4,
 "nbformat_minor": 2
}
