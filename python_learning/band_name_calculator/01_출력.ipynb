{
 "cells": [
  {
   "cell_type": "markdown",
   "metadata": {},
   "source": [
    "## Project 1. 밴드명 생성기\n",
    "\n",
    "1. 파이썬에서 출력방법 \n",
    "* print함수 : print() \n",
    "* 괄호안에 출력되어야하는 대상을 입력 \n",
    "* 큰 따옴표 또는 작은 따옴표를 통해서 코딩의 일부분이 아니라는 것을 표시, 단지 출력될 문자를 나타냄"
   ]
  },
  {
   "cell_type": "code",
   "execution_count": null,
   "metadata": {},
   "outputs": [
    {
     "name": "stdout",
     "output_type": "stream",
     "text": [
      "Hellow World!\n",
      "함수는 다음과 같이 선언합니다 : \n",
      "print('Hellow World!')\n"
     ]
    }
   ],
   "source": [
    "# 프린트 함수\n",
    "print(\"Hellow World!\")\n",
    "print(\"함수는 다음과 같이 선언합니다 : \")\n",
    "print(\"print('Hellow World!')\")"
   ]
  },
  {
   "cell_type": "code",
   "execution_count": null,
   "metadata": {},
   "outputs": [
    {
     "name": "stdout",
     "output_type": "stream",
     "text": [
      "1. Mix 500g of Flour, 10g Yeast and 300ml Water in a bowl.\n",
      "2. Knead the dough for 10 minutes.\n",
      "3. Add 3g of Salt.\n",
      "4. Leave to rise for 2 hours.\n",
      "5. Bake at 200 degrees C for 30 minutes.\n"
     ]
    }
   ],
   "source": [
    "# 아래 문자열 출력해보기\n",
    "# 1. Mix 500g of Flour, 10g Yeast and 300ml Water in a bowl.\n",
    "# 2. Knead the dough for 10 minutes.\n",
    "# 3. Add 3g of Salt.\n",
    "# 4. Leave to rise for 2 hours.\n",
    "# 5. Bake at 200 degrees C for 30 minutes.\n",
    "\n",
    "print(\"1. Mix 500g of Flour, 10g Yeast and 300ml Water in a bowl.\")\n",
    "print(\"2. Knead the dough for 10 minutes.\")\n",
    "print(\"3. Add 3g of Salt.\")\n",
    "print(\"4. Leave to rise for 2 hours.\")\n",
    "print(\"5. Bake at 200 degrees C for 30 minutes.\")"
   ]
  },
  {
   "cell_type": "code",
   "execution_count": 11,
   "metadata": {},
   "outputs": [
    {
     "name": "stdout",
     "output_type": "stream",
     "text": [
      "작은 따옴표 내 큰 따옴표를 사용해서 표현\n",
      "She said: \"Hellow\" and then left.\n",
      "\n",
      "큰 따옴표 내 작은 따옴표를 사용해서 표현\n",
      "She said: 'Hellow' and then left.\n",
      "\n",
      "문장내 큰 따옴표 앞에 백슬래시를 통해서 구분하는 표현\n",
      "She said: \"Hellow\" and then left.\n"
     ]
    }
   ],
   "source": [
    "# 프린트 함수 수정하기\n",
    "# print(\"She said: \"Hellow\" and then left.\")\n",
    "print(\"작은 따옴표 내 큰 따옴표를 사용해서 표현\")\n",
    "print('She said: \"Hellow\" and then left.\\n')\n",
    "print(\"큰 따옴표 내 작은 따옴표를 사용해서 표현\")\n",
    "print(\"She said: 'Hellow' and then left.\\n\")\n",
    "print(\"문장내 큰 따옴표 앞에 백슬래시를 통해서 구분하는 표현\")\n",
    "print(\"She said: \\\"Hellow\\\" and then left.\")\n"
   ]
  },
  {
   "cell_type": "code",
   "execution_count": 10,
   "metadata": {},
   "outputs": [
    {
     "name": "stdout",
     "output_type": "stream",
     "text": [
      "Hellow world!Hellow world!Hellow world!\n",
      "위 출력문처럼 하나의 연속된 문장에서 백슬래시를 통해서 줄 바꿈 적용\n",
      "\n",
      "Hellow world!\n",
      "Hellow world!\n",
      "Hellow world!\n"
     ]
    }
   ],
   "source": [
    "# 줄 바꿈(개행문자) 표현하기 \n",
    "print(\"Hellow world!Hellow world!Hellow world!\")\n",
    "print(\"위 출력문처럼 하나의 연속된 문장에서 백슬래시를 통해서 줄 바꿈 적용\\n\")\n",
    "print(\"Hellow world!\\nHellow world!\\nHellow world!\")"
   ]
  },
  {
   "cell_type": "code",
   "execution_count": 21,
   "metadata": {},
   "outputs": [
    {
     "name": "stdout",
     "output_type": "stream",
     "text": [
      "'+' 기호를 통해서 문자열을 결합하여 출력할 수 있다.\n",
      "print(\"Hellow\" + \"Donghyun?\")\n",
      "HellowDonghyun?\n",
      "\n",
      "글자 사이에 공백을 넣기 위해서는 단어 뒤 또는 앞에 공백을 붙이거나 별도로 문자열 공백을 추가해준다.\n",
      "print(\"Hellow \" + \"Donghyun?\")\n",
      "Hellow Donghyun?\n",
      "\n",
      "print(\"Hellow\" + \" Donghyun?\")\n",
      "Hellow  Donghyun?\n",
      "\n",
      "print(\"Hellow\" +\" \"+ \"Donghyun?\")\n",
      "Hellow Donghyun?\n",
      "\n",
      "단, 파이썬에서 들여쓰기로 인한 공백은 다른 의미를 나타내기 때문에 구분해서 이해할 것\n"
     ]
    }
   ],
   "source": [
    "# 문자열 결합\n",
    "print(\"'+' 기호를 통해서 문자열을 결합하여 출력할 수 있다.\")\n",
    "print(\"print(\\\"Hellow\\\" + \\\"Donghyun?\\\")\")\n",
    "print(\"Hellow\" + \"Donghyun?\\n\")\n",
    "print(\"글자 사이에 공백을 넣기 위해서는 단어 뒤 또는 앞에 공백을 붙이거나 별도로 문자열 공백을 추가해준다.\")\n",
    "print(\"print(\\\"Hellow \\\" + \\\"Donghyun?\\\")\")\n",
    "print(\"Hellow \" + \"Donghyun?\\n\")\n",
    "print(\"print(\\\"Hellow\\\" + \\\" Donghyun?\\\")\")\n",
    "print(\"Hellow \" + \" Donghyun?\\n\")\n",
    "print(\"print(\\\"Hellow\\\" +\\\" \\\"+ \\\"Donghyun?\\\")\")\n",
    "print(\"Hellow\" + \" \" + \"Donghyun?\\n\")\n",
    "print(\"단, 파이썬에서 들여쓰기로 인한 공백은 다른 의미를 나타내기 때문에 구분해서 이해할 것\")"
   ]
  }
 ],
 "metadata": {
  "kernelspec": {
   "display_name": "Python 3",
   "language": "python",
   "name": "python3"
  },
  "language_info": {
   "codemirror_mode": {
    "name": "ipython",
    "version": 3
   },
   "file_extension": ".py",
   "mimetype": "text/x-python",
   "name": "python",
   "nbconvert_exporter": "python",
   "pygments_lexer": "ipython3",
   "version": "3.11.4"
  }
 },
 "nbformat": 4,
 "nbformat_minor": 2
}
