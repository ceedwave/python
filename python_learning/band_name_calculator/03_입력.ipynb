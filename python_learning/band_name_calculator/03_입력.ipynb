{
 "cells": [
  {
   "cell_type": "markdown",
   "metadata": {},
   "source": [
    "## Project 1. 밴드명 생성기\n",
    "\n",
    "1. 파이썬에서 입력방법\n",
    "* input함수 : input()\n",
    "* 사용자에게 값을 입력받기 위한 함수 \n",
    "* 입력받은 값은 코드 내에서 사용될 수 있음"
   ]
  },
  {
   "cell_type": "code",
   "execution_count": 11,
   "metadata": {},
   "outputs": [
    {
     "data": {
      "text/plain": [
       "'아델'"
      ]
     },
     "execution_count": 11,
     "metadata": {},
     "output_type": "execute_result"
    }
   ],
   "source": [
    "# 입력함수 사용하기\n",
    "input(\"당신의 이름은 무엇입니까?\") "
   ]
  },
  {
   "cell_type": "code",
   "execution_count": 10,
   "metadata": {},
   "outputs": [
    {
     "name": "stdout",
     "output_type": "stream",
     "text": [
      "안녕하세요 휴고!\n"
     ]
    }
   ],
   "source": [
    "# 출력문과 함께 사용하기\n",
    "# input()함수를 통해 콘솔창에서 유저가 값을 입력\n",
    "# 입력받은 값이 저장되고 print()함수를 통해 출력\n",
    "print(\"안녕하세요 \" + input(\"당신의 이름은 무엇입니까?\") + \"!\")"
   ]
  },
  {
   "cell_type": "code",
   "execution_count": 30,
   "metadata": {},
   "outputs": [
    {
     "name": "stdout",
     "output_type": "stream",
     "text": [
      "20 * 10 을 계산하면?\n",
      "= 200\n"
     ]
    }
   ],
   "source": [
    "# 입력받은 정수형 곱하기 \n",
    "num1 = int(input())\n",
    "num2 = int(input())\n",
    "\n",
    "print(str(num1) + \" * \" + str(num2) + \" 을 계산하면?\")\n",
    "print(\"= \" + str(num1 * num2))"
   ]
  },
  {
   "cell_type": "code",
   "execution_count": 52,
   "metadata": {},
   "outputs": [
    {
     "name": "stdout",
     "output_type": "stream",
     "text": [
      "len()함수는 괄호안의 문자열의 길이를 세는 함수\n",
      "input()함수와 함께 사용하여 입력받은 값의 길이를 구해보자\n",
      "len(input())함수로 입력받은 값을 length 변수에 할당\n",
      "\n",
      "이 텍스트의 길이는 13 입니다.\n"
     ]
    }
   ],
   "source": [
    "# 입력받은 문자열의 길이 구하기\n",
    "print(\"len()함수는 괄호안의 문자열의 길이를 세는 함수\")\n",
    "print(\"input()함수와 함께 사용하여 입력받은 값의 길이를 구해보자\")\n",
    "print(\"len(input())함수로 입력받은 값을 length 변수에 할당\\n\")\n",
    "\n",
    "length = len(input(\"길이를 구하려는 텍스트를 입력해주세요\"))\n",
    "print(f\"이 텍스트의 길이는 {length} 입니다.\")\n"
   ]
  }
 ],
 "metadata": {
  "kernelspec": {
   "display_name": "Python 3",
   "language": "python",
   "name": "python3"
  },
  "language_info": {
   "codemirror_mode": {
    "name": "ipython",
    "version": 3
   },
   "file_extension": ".py",
   "mimetype": "text/x-python",
   "name": "python",
   "nbconvert_exporter": "python",
   "pygments_lexer": "ipython3",
   "version": "3.11.4"
  }
 },
 "nbformat": 4,
 "nbformat_minor": 2
}
