{
 "cells": [
  {
   "cell_type": "code",
   "execution_count": 1,
   "metadata": {},
   "outputs": [],
   "source": [
    "def calculate_slot_score(slots):\n",
    "    highest_score = 0  # 최고 점수를 저장할 변수\n",
    "    slots = list(map(list, zip(*slots)))\n",
    "\n",
    "    for slot in slots:\n",
    "        if slot[0] == slot[1] == slot[2]:  # 모든 숫자가 같은 경우\n",
    "            if slot[0] == 7:\n",
    "                score = 10000  # 7, 7, 7 잭팟\n",
    "            else:\n",
    "                score = slot[0] * 1000  # 다른 숫자 잭팟\n",
    "        else:\n",
    "            score = int(\"\".join(map(str, slot)))  # 숫자를 붙여 점수로 만듦\n",
    "\n",
    "        if score > highest_score:  # 최고 점수 갱신\n",
    "            highest_score = score\n",
    "\n",
    "    return highest_score\n"
   ]
  },
  {
   "cell_type": "markdown",
   "metadata": {},
   "source": [
    "## 1번 문제\n",
    "\n",
    "\n",
    "당신은 슬롯머신 게임장을 방문했습니다. 슬롯머신은 레버를 당기면 1 ~ 9 사이의 숫자 3 개가 슬롯에 나타나고, 숫자 조합에 따라 점수를 받는 게임기 입니다. 숫자 조합에 따라 얻게 될 점수는 다음 규칙을 통해 구할 수 있습니다.\n",
    "\n",
    "1. 슬롯에 나타난 점수가 모두 같고 7이라면, 잭팟이 되어 10000점을 점수로 얻습니다. 예를 들어 슬롯머신의 결과가 7,7,7 이라면 10000점을 받습니다.\n",
    "2. 슬롯에 나타난 숫자가 모두 같고 7이 아니라면, 숫자 * 1000점을 점수로 얻습니다. 예를 들어 슬롯머신의 결과가 3,3,3 이라면 3000점을 얻습니다.\n",
    "3. 슬롯에 나타난 숫자가 모두 같지 않다면 세 숫자를 순서대로 붙여만든 세 자릿수를 점수로 얻습니다. 예를 들어 슬롯머신의 결과가 1,2,2라면 122점을 얻습니다.\n",
    "당신은 슬롯  머신의 레버를 N번 당긴 뒤, 받은 점수 중 최고 점수를 알고 싶습니다.\n",
    "예를 들어, n = 5일 때 슬롯 머신의 결과가 다음과 같습니다.\n",
    "\n",
    "레버를 당긴 회수 | 슬롯1 | 슬롯2 | 슬롯3 | 점수\n",
    "1번 | 1 | 5 | 3 |153\n",
    "2번 | 2| 4 | 3 | 243\n",
    "3번 | 3 | 3 | 3 | 3000\n",
    "4번 | 4 | 2 | 3 | 423\n",
    "5번 | 5 | 1 | 3 | 513\n",
    "\n",
    "각 조합의 점수는 순서대로 153,243,3000,423, 513입니다. 따라서 이 슬롯 머신에서 당신이 받은 최고점은 3000점 입니다. 슬롯머신의 결과 n개를 담은 2차원 정수 배열 slots이 매개변수로 주어집니다. 이 때 당신이 받은 최고 점수를 return 하는 함수를 작성해주세요\n",
    "\n",
    "제한사항\n",
    "\n",
    "1. slots 의 길이 = 3\n",
    "2. 1<= slots[i][j] <=9\n",
    "3. slots[i][j]는 j+1번째로 레버를 당겼을 때 i+1번 슬롯에 나타난 숫자 입니다."
   ]
  }
 ],
 "metadata": {
  "kernelspec": {
   "display_name": "Python 3",
   "language": "python",
   "name": "python3"
  },
  "language_info": {
   "codemirror_mode": {
    "name": "ipython",
    "version": 3
   },
   "file_extension": ".py",
   "mimetype": "text/x-python",
   "name": "python",
   "nbconvert_exporter": "python",
   "pygments_lexer": "ipython3",
   "version": "3.11.4"
  }
 },
 "nbformat": 4,
 "nbformat_minor": 2
}
