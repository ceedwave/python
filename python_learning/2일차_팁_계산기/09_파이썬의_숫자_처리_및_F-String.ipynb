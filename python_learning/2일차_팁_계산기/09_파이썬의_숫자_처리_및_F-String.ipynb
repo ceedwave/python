{
 "cells": [
  {
   "cell_type": "markdown",
   "metadata": {},
   "source": [
    "## Project 2. 팁 계산기\n",
    "\n",
    "1. 파이썬의 숫자 처리\n",
    "* round()\n",
    "* '//'"
   ]
  },
  {
   "cell_type": "code",
   "execution_count": 5,
   "metadata": {},
   "outputs": [
    {
     "name": "stdout",
     "output_type": "stream",
     "text": [
      "2.6666666666666665\n",
      "2.67\n"
     ]
    }
   ],
   "source": [
    "# round 함수를 사용한 반올림\n",
    "\n",
    "print(8 / 3)\n",
    "print(round(8 / 3, 2))"
   ]
  },
  {
   "cell_type": "code",
   "execution_count": 7,
   "metadata": {},
   "outputs": [
    {
     "name": "stdout",
     "output_type": "stream",
     "text": [
      "2.6666666666666665\n",
      "2\n"
     ]
    }
   ],
   "source": [
    "# '//'기호를 사용한 버림 처리\n",
    "# 버림할 경우 정수\n",
    "\n",
    "print(8 / 3)\n",
    "print(8 // 3)"
   ]
  },
  {
   "cell_type": "code",
   "execution_count": 9,
   "metadata": {},
   "outputs": [
    {
     "name": "stdout",
     "output_type": "stream",
     "text": [
      "4.0\n",
      "2.0\n"
     ]
    }
   ],
   "source": [
    "# 나눗셈을 할 경우 정확히 나누어 떨어지는 숫자더라도 부동소수점 형식을 갖는다\n",
    "\n",
    "print(8/2)\n",
    "print(4/2)"
   ]
  },
  {
   "cell_type": "code",
   "execution_count": 10,
   "metadata": {},
   "outputs": [
    {
     "name": "stdout",
     "output_type": "stream",
     "text": [
      "1.0\n"
     ]
    }
   ],
   "source": [
    "# 연속된 연산 1 \n",
    "\n",
    "result = 4/2 # 4 나누기 2 = 2\n",
    "result /= 2 # 2 나누기 2 = 1\n",
    "print(result)"
   ]
  },
  {
   "cell_type": "code",
   "execution_count": 14,
   "metadata": {},
   "outputs": [
    {
     "name": "stdout",
     "output_type": "stream",
     "text": [
      "1\n"
     ]
    }
   ],
   "source": [
    "# 연속된 연산 2\n",
    "\n",
    "score = 0\n",
    "score += 1\n",
    "\n",
    "print(score)\n"
   ]
  },
  {
   "cell_type": "markdown",
   "metadata": {},
   "source": [
    "2. F-String\n",
    "* 문자열과 다양한 데이터 타입을 쉽게 혼합할 수 있는 것\n",
    "* 데이터 타입 에러를 문제없이 다를 수 있음"
   ]
  },
  {
   "cell_type": "code",
   "execution_count": 15,
   "metadata": {},
   "outputs": [
    {
     "ename": "TypeError",
     "evalue": "can only concatenate str (not \"int\") to str",
     "output_type": "error",
     "traceback": [
      "\u001b[0;31m---------------------------------------------------------------------------\u001b[0m",
      "\u001b[0;31mTypeError\u001b[0m                                 Traceback (most recent call last)",
      "Cell \u001b[0;32mIn[15], line 4\u001b[0m\n\u001b[1;32m      1\u001b[0m \u001b[38;5;66;03m# 타입 에러\u001b[39;00m\n\u001b[1;32m      3\u001b[0m score \u001b[38;5;241m=\u001b[39m \u001b[38;5;241m0\u001b[39m \n\u001b[0;32m----> 4\u001b[0m \u001b[38;5;28mprint\u001b[39m(\u001b[38;5;124;43m\"\u001b[39;49m\u001b[38;5;124;43m당신의 점수는 \u001b[39;49m\u001b[38;5;124;43m\"\u001b[39;49m\u001b[43m \u001b[49m\u001b[38;5;241;43m+\u001b[39;49m\u001b[43m \u001b[49m\u001b[43mscore\u001b[49m \u001b[38;5;241m+\u001b[39m \u001b[38;5;124m\"\u001b[39m\u001b[38;5;124m점 인가요?\u001b[39m\u001b[38;5;124m\"\u001b[39m)\n",
      "\u001b[0;31mTypeError\u001b[0m: can only concatenate str (not \"int\") to str"
     ]
    }
   ],
   "source": [
    "# 타입 에러\n",
    "\n",
    "score = 0 \n",
    "print(\"당신의 점수는 \" + score + \"점 인가요?\")"
   ]
  },
  {
   "cell_type": "code",
   "execution_count": 18,
   "metadata": {},
   "outputs": [
    {
     "name": "stdout",
     "output_type": "stream",
     "text": [
      "당신의 점수는 0점 키는1.8 True입니까?\n"
     ]
    }
   ],
   "source": [
    "# F-Sting 적용\n",
    "\n",
    "score = 0 # 정수\n",
    "height = 1.8 # 소수\n",
    "isWinning = True # 불리언\n",
    "\n",
    "# 문자열 앞에 f(format)를 작성해주는 것으로 변수를 적용할 수 있다   \n",
    "print(f\"당신의 점수는 {score}점 키는 {height} {isWinning}입니까?\")"
   ]
  }
 ],
 "metadata": {
  "kernelspec": {
   "display_name": "Python 3",
   "language": "python",
   "name": "python3"
  },
  "language_info": {
   "codemirror_mode": {
    "name": "ipython",
    "version": 3
   },
   "file_extension": ".py",
   "mimetype": "text/x-python",
   "name": "python",
   "nbconvert_exporter": "python",
   "pygments_lexer": "ipython3",
   "version": "3.11.4"
  }
 },
 "nbformat": 4,
 "nbformat_minor": 2
}
