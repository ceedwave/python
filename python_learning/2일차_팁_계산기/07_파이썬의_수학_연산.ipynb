{
 "cells": [
  {
   "cell_type": "markdown",
   "metadata": {},
   "source": [
    "## Project 2. 팁 계산기\n",
    "\n",
    "1. 수학의 연산\n",
    "* 파이썬에서 나눗셈은 항상 부동소수점을 나타낸다\n",
    "* 부동소수점이 포함된 연산은 항상 부동소수점을 나타낸다\n",
    "* 파이썬에서 ** 기호는 제곱을 뜻한다\n",
    "* PEMDAS 순서로 우선순위 적용 ()괄호 > 제곱 > 곱셈, 나눗셈 > 덧셈, 뺄셈"
   ]
  },
  {
   "cell_type": "code",
   "execution_count": 9,
   "metadata": {},
   "outputs": [
    {
     "name": "stdout",
     "output_type": "stream",
     "text": [
      "8\n",
      "6\n",
      "6\n",
      "36\n",
      "512\n",
      "7.0\n",
      "3.0\n",
      "4\n"
     ]
    }
   ],
   "source": [
    "# 수학의 연산\n",
    "\n",
    "3 + 5 \n",
    "7 - 4\n",
    "3 * 2\n",
    "6 / 3\n",
    "2 ** 5 # 제곱\n",
    "291 // 62 # 몫\n",
    "\n",
    "print(3 + 5)\n",
    "print(8 - 2)\n",
    "print(3 * 2)\n",
    "print(18 * 2)\n",
    "print(2 ** 9)\n",
    "print(3 * 3 + 3/3 - 3)\n",
    "print(3 * (3 + 3)/3 - 3)\n",
    "print(291//62) "
   ]
  }
 ],
 "metadata": {
  "kernelspec": {
   "display_name": "Python 3",
   "language": "python",
   "name": "python3"
  },
  "language_info": {
   "name": "python",
   "version": "3.11.4"
  }
 },
 "nbformat": 4,
 "nbformat_minor": 2
}
