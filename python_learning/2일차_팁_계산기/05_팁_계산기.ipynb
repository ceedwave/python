{
 "cells": [
  {
   "cell_type": "markdown",
   "metadata": {},
   "source": [
    "## Project 2. 팁 계산기\n",
    "\n",
    "1. 팁 계산기 작성하기"
   ]
  },
  {
   "cell_type": "code",
   "execution_count": 17,
   "metadata": {},
   "outputs": [
    {
     "name": "stdout",
     "output_type": "stream",
     "text": [
      "팁 계산기를 이용해주셔서 감사합니다.\n",
      "전체 청구 금액을 입력해주세요\n",
      "170000원\n",
      "몇 퍼센트의 팁을 주시겠어요? 10, 12 또는 15?\n",
      "7%\n",
      "몇 명이 계산할 예정인가요?\n",
      "11명\n",
      "한 사람당 16536.36원씩 계산하면 됩니다.\n"
     ]
    }
   ],
   "source": [
    "# 팁 계산기\n",
    "\n",
    "print(\"팁 계산기를 이용해주셔서 감사합니다.\")\n",
    "print(\"전체 청구 금액을 입력해주세요\")\n",
    "total_bill = int(input(\"전체 청구 금액을 입력해주세요\"))\n",
    "print(f\"{total_bill}원\")\n",
    "print(\"몇 퍼센트의 팁을 주시겠어요? 10, 12 또는 15?\")\n",
    "percentage = int(input(\"몇 퍼센트의 팁을 주시겠어요? 10, 12 또는 15?\"))\n",
    "print(f\"{percentage}%\")\n",
    "print(\"몇 명이 계산할 예정인가요?\")\n",
    "persons = int(input(\"몇 명이 계산할 예정인가요?\"))\n",
    "print(f\"{persons}명\")\n",
    "\n",
    "total_price = total_bill * (1 + percentage/100)\n",
    "pay = round(total_price / persons, 2)\n",
    "\n",
    "print(f\"한 사람당 {pay}원씩 계산하면 됩니다.\")\n"
   ]
  }
 ],
 "metadata": {
  "kernelspec": {
   "display_name": "Python 3",
   "language": "python",
   "name": "python3"
  },
  "language_info": {
   "codemirror_mode": {
    "name": "ipython",
    "version": 3
   },
   "file_extension": ".py",
   "mimetype": "text/x-python",
   "name": "python",
   "nbconvert_exporter": "python",
   "pygments_lexer": "ipython3",
   "version": "3.11.4"
  }
 },
 "nbformat": 4,
 "nbformat_minor": 2
}
