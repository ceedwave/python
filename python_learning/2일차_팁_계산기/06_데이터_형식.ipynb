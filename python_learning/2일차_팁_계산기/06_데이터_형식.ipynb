{
 "cells": [
  {
   "cell_type": "markdown",
   "metadata": {},
   "source": [
    "## Project 2. 팁 계산기\n",
    "\n",
    "1. 데이터 형식\n",
    "* type() 함수를 활용해 데이터의 형식을 확인할 수 있음\n",
    "* 데이터 형식 변환으로 오류를 수정할 수 있음"
   ]
  },
  {
   "cell_type": "code",
   "execution_count": 6,
   "metadata": {},
   "outputs": [
    {
     "name": "stdout",
     "output_type": "stream",
     "text": [
      "<class 'int'>\n"
     ]
    }
   ],
   "source": [
    "#type() 함수\n",
    "num_char = len(\"이름이 뭐에요?\") \n",
    "print(type(num_char))"
   ]
  },
  {
   "cell_type": "code",
   "execution_count": 4,
   "metadata": {},
   "outputs": [
    {
     "ename": "TypeError",
     "evalue": "can only concatenate str (not \"int\") to str",
     "output_type": "error",
     "traceback": [
      "\u001b[0;31m---------------------------------------------------------------------------\u001b[0m",
      "\u001b[0;31mTypeError\u001b[0m                                 Traceback (most recent call last)",
      "Cell \u001b[0;32mIn[4], line 4\u001b[0m\n\u001b[1;32m      1\u001b[0m \u001b[38;5;66;03m# len함수는 정수로 적용될 경우 TypeError가 발생\u001b[39;00m\n\u001b[1;32m      2\u001b[0m \u001b[38;5;66;03m# 해당 변수는 문자열이 아닌 정수로 인식\u001b[39;00m\n\u001b[1;32m      3\u001b[0m num_char \u001b[38;5;241m=\u001b[39m \u001b[38;5;28mlen\u001b[39m(\u001b[38;5;28minput\u001b[39m(\u001b[38;5;124m\"\u001b[39m\u001b[38;5;124m이름이 뭐에요?\u001b[39m\u001b[38;5;124m\"\u001b[39m)) \n\u001b[0;32m----> 4\u001b[0m \u001b[38;5;28mprint\u001b[39m(\u001b[38;5;124;43m\"\u001b[39;49m\u001b[38;5;124;43m제 이름은 \u001b[39;49m\u001b[38;5;124;43m\"\u001b[39;49m\u001b[43m \u001b[49m\u001b[38;5;241;43m+\u001b[39;49m\u001b[43m \u001b[49m\u001b[43mnum_char\u001b[49m \u001b[38;5;241m+\u001b[39m \u001b[38;5;124m\"\u001b[39m\u001b[38;5;124m 글자 입니다.\u001b[39m\u001b[38;5;124m\"\u001b[39m)\n",
      "\u001b[0;31mTypeError\u001b[0m: can only concatenate str (not \"int\") to str"
     ]
    }
   ],
   "source": [
    "# len함수는 정수로 적용될 경우 TypeError가 발생\n",
    "# 해당 변수는 문자열이 아닌 정수로 인식\n",
    "num_char = len(input(\"이름이 뭐에요?\")) \n",
    "print(\"제 이름은 \" + num_char + \" 글자 입니다.\")"
   ]
  },
  {
   "cell_type": "code",
   "execution_count": 7,
   "metadata": {},
   "outputs": [
    {
     "name": "stdout",
     "output_type": "stream",
     "text": [
      "제 이름은 11 글자 입니다.\n"
     ]
    }
   ],
   "source": [
    "# 데이터 형식 변환\n",
    "num_char = len(input(\"이름이 뭐에요?\")) \n",
    "str_num_char = str(num_char)\n",
    "\n",
    "#모두 문자열로 적용됨\n",
    "print(\"제 이름은 \" + str_num_char + \" 글자 입니다.\")"
   ]
  },
  {
   "cell_type": "code",
   "execution_count": 13,
   "metadata": {},
   "outputs": [
    {
     "name": "stdout",
     "output_type": "stream",
     "text": [
      "<class 'float'>\n",
      "789.0\n",
      "170.5\n",
      "70100\n"
     ]
    }
   ],
   "source": [
    "# 정수 외의 데이터도 변환할 수 있다.\n",
    "a = float(123)\n",
    "print(type(a))\n",
    "\n",
    "# 정수 + 실수 = 실수\n",
    "print(666 + a)\n",
    "print(70 + float(\"100.5\"))\n",
    "\n",
    "# 문자열 결합\n",
    "print(str(70) + str(100))"
   ]
  }
 ],
 "metadata": {
  "kernelspec": {
   "display_name": "Python 3",
   "language": "python",
   "name": "python3"
  },
  "language_info": {
   "codemirror_mode": {
    "name": "ipython",
    "version": 3
   },
   "file_extension": ".py",
   "mimetype": "text/x-python",
   "name": "python",
   "nbconvert_exporter": "python",
   "pygments_lexer": "ipython3",
   "version": "3.11.4"
  }
 },
 "nbformat": 4,
 "nbformat_minor": 2
}
