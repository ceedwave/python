{
 "cells": [
  {
   "cell_type": "markdown",
   "metadata": {},
   "source": [
    "## Project 2. 팁 계산기\n",
    "\n",
    "1. BMI 계산기\n",
    "* 사용자의 몸무게와 키로 체질량 지수를 계산하는 프로그램"
   ]
  },
  {
   "cell_type": "code",
   "execution_count": 39,
   "metadata": {},
   "outputs": [
    {
     "name": "stdout",
     "output_type": "stream",
     "text": [
      "안녕하세요! BMI 계산기 입니다. 당신의 키와 몸무게를 입력해주세요 :)\n",
      "\n",
      "감사합니다. 당신의  BMI 지수는 29 입니다.\n",
      "\n",
      "이용해주셔서 감사합니다 :)\n"
     ]
    }
   ],
   "source": [
    "print(\"안녕하세요! BMI 계산기 입니다. 당신의 키와 몸무게를 입력해주세요 :)\\n\")\n",
    "# input을 통한 입력값은 문자열로 들어옴\n",
    "height = int(input(\"당신의 키를 알려주세요.\\n\")) / 100\n",
    "weight = int(input(\"다음은 몸무게를 알려주세요.\\n\"))\n",
    "bmi = weight / (height ** 2)\n",
    "int_bmi = int(bmi)\n",
    "print(f\"감사합니다. 당신의  BMI 지수는 {str_bmi} 입니다.\\n\")\n",
    "print(\"이용해주셔서 감사합니다 :)\")"
   ]
  }
 ],
 "metadata": {
  "kernelspec": {
   "display_name": "Python 3",
   "language": "python",
   "name": "python3"
  },
  "language_info": {
   "name": "python",
   "version": "3.11.4"
  }
 },
 "nbformat": 4,
 "nbformat_minor": 2
}
