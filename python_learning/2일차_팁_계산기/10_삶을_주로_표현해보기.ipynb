{
 "cells": [
  {
   "cell_type": "markdown",
   "metadata": {},
   "source": [
    "## Project 2. 팁 계산기\n",
    "\n",
    "1. 삶을 주(week)로 표현해보기\n",
    "* 인생이 4,000주밖에 되지 않는 건에 대하여 (이렇게 짧다고?)"
   ]
  },
  {
   "cell_type": "code",
   "execution_count": 16,
   "metadata": {},
   "outputs": [
    {
     "name": "stdout",
     "output_type": "stream",
     "text": [
      "네 나이가 어떻게 돼?\n",
      "\n",
      "아 34살이야? 그렇구나 알려줘서 고마워\n",
      "\n",
      "평균 수명이 85세라고 했을 때 너가 살아갈 날이 2652주가 남은거래\n",
      "\n",
      "그런데 그거 알아?\n",
      "\n",
      "어머니와 함께 보낼 수 밖에 없는 시간이 1092주 밖에 없다는 사실..?\n",
      "\n"
     ]
    }
   ],
   "source": [
    "my_age = int(input(\"네 나이가 어떻게 돼?\"))\n",
    "#years = 1\n",
    "weeks = 52\n",
    "#days = 365\n",
    "life = 85\n",
    "rest_of_life = life - my_age \n",
    "life_weeks = rest_of_life * weeks\n",
    "\n",
    "print(\"네 나이가 어떻게 돼?\\n\")\n",
    "print(f\"아 {my_age}살이야? 그렇구나 알려줘서 고마워\\n\")\n",
    "print(f\"평균 수명이 85세라고 했을 때 너가 살아갈 날이 {life_weeks}주가 남은거래\\n\")\n",
    "print(\"그런데 그거 알아?\\n\")\n",
    "mother_age = int(input(\"그러면 어머니 나이는 어떻게 되는데?\"))\n",
    "mother_rest_of_life = life - mother_age \n",
    "mother_life_weeks = mother_rest_of_life * weeks\n",
    "print(f\"어머니와 함께 보낼 수 밖에 없는 시간이 {mother_life_weeks}주 밖에 없다는 사실..?\\n\")\n",
    "\n"
   ]
  }
 ],
 "metadata": {
  "kernelspec": {
   "display_name": "Python 3",
   "language": "python",
   "name": "python3"
  },
  "language_info": {
   "codemirror_mode": {
    "name": "ipython",
    "version": 3
   },
   "file_extension": ".py",
   "mimetype": "text/x-python",
   "name": "python",
   "nbconvert_exporter": "python",
   "pygments_lexer": "ipython3",
   "version": "3.11.4"
  }
 },
 "nbformat": 4,
 "nbformat_minor": 2
}
